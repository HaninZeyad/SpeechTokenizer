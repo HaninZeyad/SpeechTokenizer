{
 "cells": [
  {
   "cell_type": "code",
   "execution_count": 4,
   "metadata": {},
   "outputs": [],
   "source": [
    "from glob import glob\n",
    "\n",
    "paths = glob(\"/ocean/projects/cis220031p/hatwany/SpeechTokenizer/hubert_rep/LibriSpeech/dev-clean/*/*/*.npy\")"
   ]
  },
  {
   "cell_type": "code",
   "execution_count": 5,
   "metadata": {},
   "outputs": [
    {
     "data": {
      "text/plain": [
       "(1, 224, 1024)"
      ]
     },
     "execution_count": 5,
     "metadata": {},
     "output_type": "execute_result"
    }
   ],
   "source": [
    "import numpy as np\n",
    "\n",
    "np.load(paths[0]).shape"
   ]
  },
  {
   "cell_type": "code",
   "execution_count": 15,
   "metadata": {},
   "outputs": [],
   "source": [
    "# Step 1: Load the text file\n",
    "input_file_path = '/ocean/projects/cis220031p/hatwany/SpeechTokenizer/base_txt_files/train_file_list.txt'\n",
    "output_file_path = '/ocean/projects/cis220031p/hatwany/SpeechTokenizer/base_txt_files/train_file_list.txt'\n",
    "\n",
    "# # Read the text file\n",
    "with open(input_file_path, 'r') as file:\n",
    "    lines = file.readlines()\n",
    "\n",
    "# # # # Step 2: Select the first 1000 lines\n",
    "# selected_lines = lines[:8000]\n",
    "\n",
    "# new_lines = []\n",
    "# for line in selected_lines:\n",
    "#     line = line.replace(\"hubert_large\", \"hubert_base\")\n",
    "#     new_lines.append(line)\n",
    "    \n",
    "# # # # Step 3: Save the selected lines to a new file\n",
    "with open(output_file_path, 'w') as file:\n",
    "    file.writelines(lines)\n",
    "\n",
    "# print(f\"First 1000 lines have been saved to {output_file_path}\")\n"
   ]
  },
  {
   "cell_type": "code",
   "execution_count": 16,
   "metadata": {},
   "outputs": [
    {
     "data": {
      "text/plain": [
       "18252"
      ]
     },
     "execution_count": 16,
     "metadata": {},
     "output_type": "execute_result"
    }
   ],
   "source": [
    "len(lines)"
   ]
  },
  {
   "cell_type": "code",
   "execution_count": null,
   "metadata": {},
   "outputs": [],
   "source": []
  }
 ],
 "metadata": {
  "kernelspec": {
   "display_name": "Python 3",
   "language": "python",
   "name": "python3"
  },
  "language_info": {
   "codemirror_mode": {
    "name": "ipython",
    "version": 3
   },
   "file_extension": ".py",
   "mimetype": "text/x-python",
   "name": "python",
   "nbconvert_exporter": "python",
   "pygments_lexer": "ipython3",
   "version": "3.9.13"
  }
 },
 "nbformat": 4,
 "nbformat_minor": 2
}
